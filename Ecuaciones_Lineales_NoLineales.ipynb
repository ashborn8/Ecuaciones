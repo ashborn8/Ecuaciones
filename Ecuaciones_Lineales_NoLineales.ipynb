{
  "nbformat": 4,
  "nbformat_minor": 0,
  "metadata": {
    "colab": {
      "provenance": [],
      "gpuType": "V28",
      "authorship_tag": "ABX9TyOghppdDGp1TtFknYRRzdEj",
      "include_colab_link": true
    },
    "kernelspec": {
      "name": "python3",
      "display_name": "Python 3"
    },
    "language_info": {
      "name": "python"
    },
    "accelerator": "TPU"
  },
  "cells": [
    {
      "cell_type": "markdown",
      "metadata": {
        "id": "view-in-github",
        "colab_type": "text"
      },
      "source": [
        "<a href=\"https://colab.research.google.com/github/ashborn8/Ecuaciones/blob/main/Ecuaciones_Lineales_NoLineales.ipynb\" target=\"_parent\"><img src=\"https://colab.research.google.com/assets/colab-badge.svg\" alt=\"Open In Colab\"/></a>"
      ]
    },
    {
      "cell_type": "markdown",
      "source": [
        "# Ejercicio 1: Sistema de ecuaciones lineales"
      ],
      "metadata": {
        "id": "tXMcrGP74vLD"
      }
    },
    {
      "cell_type": "code",
      "execution_count": 1,
      "metadata": {
        "id": "WXkKrfJK3Eed"
      },
      "outputs": [],
      "source": [
        "import torch\n",
        "import torch.nn as nn\n",
        "import torch.optim as optim"
      ]
    },
    {
      "cell_type": "code",
      "source": [
        "# Definimos una red neuronal simple para el sistema lineal\n",
        "class LinearSystemNN(nn.Module):\n",
        "    def __init__(self):\n",
        "        super(LinearSystemNN, self).__init__()\n",
        "        self.x = nn.Parameter(torch.randn(1, requires_grad=True))\n",
        "        self.y = nn.Parameter(torch.randn(1, requires_grad=True))\n",
        "\n",
        "    def forward(self):\n",
        "        return self.x, self.y"
      ],
      "metadata": {
        "id": "eDQjYOS54abp"
      },
      "execution_count": 2,
      "outputs": []
    },
    {
      "cell_type": "code",
      "source": [
        "# Creamos la red y definimos la función de pérdida\n",
        "net = LinearSystemNN()\n",
        "optimizer = optim.Adam(net.parameters(), lr=0.01)"
      ],
      "metadata": {
        "id": "oFEp1Okt4cwy"
      },
      "execution_count": 3,
      "outputs": []
    },
    {
      "cell_type": "code",
      "source": [
        "# Entrenamiento de la red\n",
        "for epoch in range(1000):\n",
        "    x, y = net()\n",
        "    equation1 = 3 * x + y - 60  # 3x + y = 60\n",
        "    equation2 = 2 * x + 2 * y - 40  # 2x + 2y = 40\n",
        "\n",
        "    loss = (equation1**2 + equation2**2).mean()  # Pérdida cuadrática\n",
        "    optimizer.zero_grad()\n",
        "    loss.backward()\n",
        "    optimizer.step()\n",
        "\n",
        "    if epoch % 100 == 0:\n",
        "        print(f\"Epoch {epoch}, Loss: {loss.item()}\")"
      ],
      "metadata": {
        "colab": {
          "base_uri": "https://localhost:8080/"
        },
        "id": "pnauCo4o4gLJ",
        "outputId": "fbe49ad7-b569-4d44-aecd-54e12a080a3d"
      },
      "execution_count": 4,
      "outputs": [
        {
          "output_type": "stream",
          "name": "stdout",
          "text": [
            "Epoch 0, Loss: 5600.95166015625\n",
            "Epoch 100, Loss: 4810.91064453125\n",
            "Epoch 200, Loss: 4109.93994140625\n",
            "Epoch 300, Loss: 3492.056884765625\n",
            "Epoch 400, Loss: 2950.597412109375\n",
            "Epoch 500, Loss: 2479.136962890625\n",
            "Epoch 600, Loss: 2071.488525390625\n",
            "Epoch 700, Loss: 1721.682861328125\n",
            "Epoch 800, Loss: 1423.984130859375\n",
            "Epoch 900, Loss: 1172.888427734375\n"
          ]
        }
      ]
    },
    {
      "cell_type": "code",
      "source": [
        "# Imprimimos la solución aproximada\n",
        "x, y = net()\n",
        "print(f\"Solución aproximada: x = {x.item()}, y = {y.item()}\")"
      ],
      "metadata": {
        "colab": {
          "base_uri": "https://localhost:8080/"
        },
        "id": "ykktIZQF4jz3",
        "outputId": "3410c3ef-8d5d-43d6-fadc-d99bb1b0b024"
      },
      "execution_count": 5,
      "outputs": [
        {
          "output_type": "stream",
          "name": "stdout",
          "text": [
            "Solución aproximada: x = 7.870715141296387, y = 7.057747840881348\n"
          ]
        }
      ]
    },
    {
      "cell_type": "markdown",
      "source": [
        "# Ejercicio 2: Sistema de ecuaciones no lineales"
      ],
      "metadata": {
        "id": "uUEUsbpj43CM"
      }
    },
    {
      "cell_type": "code",
      "source": [
        "# Definimos una red neuronal simple para el sistema no lineal\n",
        "class NonLinearSystemNN(nn.Module):\n",
        "    def __init__(self):\n",
        "        super(NonLinearSystemNN, self).__init__()\n",
        "        self.x = nn.Parameter(torch.randn(1, requires_grad=True))\n",
        "        self.y = nn.Parameter(torch.randn(1, requires_grad=True))\n",
        "\n",
        "    def forward(self):\n",
        "        return self.x, self.y"
      ],
      "metadata": {
        "id": "ubxKu8Xu46sw"
      },
      "execution_count": 6,
      "outputs": []
    },
    {
      "cell_type": "code",
      "source": [
        "# Creamos la red y definimos la función de pérdida\n",
        "net = NonLinearSystemNN()\n",
        "optimizer = optim.Adam(net.parameters(), lr=0.01)"
      ],
      "metadata": {
        "id": "sfxPG0i55N5y"
      },
      "execution_count": 7,
      "outputs": []
    },
    {
      "cell_type": "code",
      "source": [
        "# Entrenamiento de la red\n",
        "for epoch in range(1000):\n",
        "    x, y = net()\n",
        "    equation1 = x + y - 10  # x + y = 10\n",
        "    equation2 = x**2 + y**2 - 25  # x^2 + y^2 = 25\n",
        "\n",
        "    loss = (equation1**2 + equation2**2).mean()  # Pérdida cuadrática\n",
        "    optimizer.zero_grad()\n",
        "    loss.backward()\n",
        "    optimizer.step()\n",
        "\n",
        "    if epoch % 100 == 0:\n",
        "        print(f\"Epoch {epoch}, Loss: {loss.item()}\")"
      ],
      "metadata": {
        "colab": {
          "base_uri": "https://localhost:8080/"
        },
        "id": "DmF4uYpq5Q2x",
        "outputId": "4458ae19-18f5-4074-87c7-c54290ebe243"
      },
      "execution_count": 8,
      "outputs": [
        {
          "output_type": "stream",
          "name": "stdout",
          "text": [
            "Epoch 0, Loss: 632.108642578125\n",
            "Epoch 100, Loss: 381.72186279296875\n",
            "Epoch 200, Loss: 138.65626525878906\n",
            "Epoch 300, Loss: 91.54500579833984\n",
            "Epoch 400, Loss: 82.6873779296875\n",
            "Epoch 500, Loss: 73.86682891845703\n",
            "Epoch 600, Loss: 64.8902587890625\n",
            "Epoch 700, Loss: 56.17444610595703\n",
            "Epoch 800, Loss: 48.09153366088867\n",
            "Epoch 900, Loss: 40.91490173339844\n"
          ]
        }
      ]
    },
    {
      "cell_type": "code",
      "source": [
        "# Imprimimos la solución aproximada\n",
        "x, y = net()\n",
        "print(f\"Solución aproximada: x = {x.item()}, y = {y.item()}\")"
      ],
      "metadata": {
        "colab": {
          "base_uri": "https://localhost:8080/"
        },
        "id": "re0efOxy5Vwu",
        "outputId": "cff69be1-fac5-4992-aff2-59bc1e36320a"
      },
      "execution_count": 9,
      "outputs": [
        {
          "output_type": "stream",
          "name": "stdout",
          "text": [
            "Solución aproximada: x = 4.9649858474731445, y = -0.8507431745529175\n"
          ]
        }
      ]
    }
  ]
}